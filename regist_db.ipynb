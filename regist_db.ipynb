{
 "cells": [
  {
   "cell_type": "code",
   "execution_count": null,
   "metadata": {},
   "outputs": [],
   "source": [
    "import json\n",
    "\n",
    "import mysql.connector as mydb"
   ]
  },
  {
   "cell_type": "code",
   "execution_count": null,
   "metadata": {},
   "outputs": [],
   "source": [
    "connector = mydb.connect(\n",
    "  host='localhost',\n",
    "  port='3306',\n",
    "  user='mysql',\n",
    "  password='mysql',\n",
    "  database='wikipedia',\n",
    "  auth_plugin='mysql_native_password'\n",
    ")\n",
    "\n",
    "cursor = connector.cursor()"
   ]
  },
  {
   "cell_type": "code",
   "execution_count": null,
   "metadata": {},
   "outputs": [],
   "source": [
    "docs = []\n",
    "count = 0\n",
    "\n",
    "with open('mysql/init/jawiki-20211227-cirrussearch-content.json', 'r') as f:\n",
    "  for line in f:\n",
    "    json_line = json.loads(line)\n",
    "    if 'index' not in json_line:\n",
    "      doc = json_line\n",
    "      docs.append(doc)\n",
    "      count += 1\n",
    "      \n",
    "      if count % 1000 == 0:\n",
    "        "
   ]
  }
 ],
 "metadata": {
  "language_info": {
   "name": "python"
  },
  "orig_nbformat": 4
 },
 "nbformat": 4,
 "nbformat_minor": 2
}
